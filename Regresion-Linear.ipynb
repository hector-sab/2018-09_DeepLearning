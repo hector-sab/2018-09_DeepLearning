{
 "cells": [
  {
   "cell_type": "markdown",
   "metadata": {},
   "source": [
    "## Regresión Linear"
   ]
  },
  {
   "cell_type": "code",
   "execution_count": 4,
   "metadata": {},
   "outputs": [],
   "source": [
    "import numpy as np\n",
    "from numpy import array\n",
    "from numpy import matmul\n",
    "from numpy.linalg import inv\n",
    "from numpy.random import rand\n",
    "from matplotlib import pyplot"
   ]
  },
  {
   "cell_type": "code",
   "execution_count": 11,
   "metadata": {},
   "outputs": [],
   "source": [
    "# Genera datos en puntos de una línea perturbados por ruido.\n",
    "noise_margin= 0.5\n",
    "w = rand(2,1) # w[0] es una constante aleatoria (offset desde el origen), w[1] es un término linear (slope)\n",
    "x  = np.linspace(-5,5,20)\n",
    "y = w[0] + w[1]*x + noise_margin*rand(len(x))"
   ]
  },
  {
   "cell_type": "code",
   "execution_count": 12,
   "metadata": {},
   "outputs": [],
   "source": [
    "# Crea el diseño de la matriz: los datos en x, y suma una columna de unos multiplicada por una constante.\n",
    "X = np.column_stack( [np.ones([len(x), 1]), x.reshape(-1, 1)] )"
   ]
  },
  {
   "cell_type": "code",
   "execution_count": 13,
   "metadata": {},
   "outputs": [],
   "source": [
    "# Estas son las ecuaciones normales en forma de matriz: w = (X' X)^-1 X' y\n",
    "#w_est = matmul(inv(matmul(X.transpose(),X)),X.transpose()).dot(y)\n",
    "\n",
    "# Para regresión linear, agregamos un regularizador:\n",
    "# (reg_weight 0 reduce a una ecuación normal no-regularizada):\n",
    "reg_weight = 0.01\n",
    "w_est = matmul(inv(matmul(X.transpose(),X) + reg_weight*np.identity(2)),X.transpose()).dot(y)"
   ]
  },
  {
   "cell_type": "code",
   "execution_count": 14,
   "metadata": {},
   "outputs": [],
   "source": [
    "# Evalua los valores de x en un modelo ajustado para estimar valores de y\n",
    "y_est = w_est[0] + w_est[1]*x"
   ]
  },
  {
   "cell_type": "code",
   "execution_count": 15,
   "metadata": {},
   "outputs": [
    {
     "data": {
      "image/png": "[encoded data removed]",
      "text/plain": [
       "<Figure size 432x288 with 1 Axes>"
      ]
     },
     "metadata": {
      "needs_background": "light"
     },
     "output_type": "display_data"
    }
   ],
   "source": [
    "# Visualiza el modelo ajustado\n",
    "pyplot.scatter(x, y)\n",
    "pyplot.plot(x, y_est, color='red')\n",
    "pyplot.show()"
   ]
  },
  {
   "cell_type": "code",
   "execution_count": null,
   "metadata": {},
   "outputs": [],
   "source": []
  }
 ],
 "metadata": {
  "kernelspec": {
   "display_name": "Python 3",
   "language": "python",
   "name": "python3"
  },
  "language_info": {
   "codemirror_mode": {
    "name": "ipython",
    "version": 3
   },
   "file_extension": ".py",
   "mimetype": "text/x-python",
   "name": "python",
   "nbconvert_exporter": "python",
   "pygments_lexer": "ipython3",
   "version": "3.6.6"
  }
 },
 "nbformat": 4,
 "nbformat_minor": 2
}
