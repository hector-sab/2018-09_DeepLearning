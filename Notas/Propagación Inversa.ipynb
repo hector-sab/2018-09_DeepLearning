{
 "cells": [
  {
   "cell_type": "markdown",
   "metadata": {},
   "source": [
    "# Propagación inversa\n",
    "\n",
    "Esta es la manera en la que las redes neuronales aprenden a ajustar sus pesos.\n",
    "\n",
    "Problema: Dada una función $f(x_1,x_2,..,x_n)$ determinar de que manera $x_i$ influye en el resultado final, donde $x_i$ corresponde a los valores de entrada y a a los pesos de cada neurona.\n",
    "\n",
    "\\begin{align*}\n",
    "pred = \\sigma(W_3 \\sigma(W_2 \\sigma(W_1 x + b_1) + b_2) + b_3)\n",
    "\\end{align*}\n",
    "\n"
   ]
  },
  {
   "cell_type": "markdown",
   "metadata": {},
   "source": [
    "Tenemos una funcion $f(x,y) = xy$. al calcular su derivada parcial obtenemoslo siguiente:\n",
    "\n",
    "\\begin{align*}\n",
    "\\begin{matrix}\n",
    "f(x,y) = xy  & \\rightarrow & \\frac{\\partial f}{\\partial x} = y & \\frac{\\partial f}{\\partial y} = x\n",
    "\\end{matrix}\n",
    "\\end{align*}\n",
    "\n",
    "Esto nos permite conocer la razón de cambio de una función con respecto a sus variables."
   ]
  },
  {
   "cell_type": "code",
   "execution_count": 4,
   "metadata": {},
   "outputs": [
    {
     "name": "stdout",
     "output_type": "stream",
     "text": [
      "x: 1 y: -1  -  R: -1\n",
      "x: 5 y: -1  -  R: -5\n",
      "x: 5 y: -3  -  R: -15\n"
     ]
    }
   ],
   "source": [
    "def f(x,y):\n",
    "    out = x*y\n",
    "    return(out)\n",
    "\n",
    "# Probando con x=1 y y=-1\n",
    "x = 1; y = -1\n",
    "out = f(x,y) # El resultado es 1\n",
    "print('x: {} y: {}  -  R: {}'.format(x,y,out))\n",
    "\n",
    "# df/dx = -1 y df/dy = 1\n",
    "\n",
    "\n",
    "# ¿Que pasa si ahora utilizamos x=5?\n",
    "# Con base en su deribada parcial, podemos decir que la forma en la que va a \n",
    "# cambiar el resultado es con un factor de y\n",
    "\n",
    "# Probando con x=5 y y=1\n",
    "x = 5; y = -1\n",
    "out = f(x,y) # El resultado es 5\n",
    "print('x: {} y: {}  -  R: {}'.format(x,y,out))\n",
    "\n",
    "# df/dx = 1 y df/dy = 5\n",
    "\n",
    "# Ahora ¿Que pasa si decidimos cambiar el valor de y a 3?\n",
    "# La derivada parcial de y nos dice que el cambio que va a tener la salida es \n",
    "# con un factor de x\n",
    "\n",
    "# Probando con x=5 y y=-3\n",
    "x = 5; y = -3\n",
    "out = f(x,y) # El resultado es 5\n",
    "print('x: {} y: {}  -  R: {}'.format(x,y,out))\n",
    "\n",
    "# df/dx = 3 y df/dy = 5"
   ]
  },
  {
   "cell_type": "code",
   "execution_count": null,
   "metadata": {},
   "outputs": [],
   "source": []
  }
 ],
 "metadata": {
  "kernelspec": {
   "display_name": "Python 3",
   "language": "python",
   "name": "python3"
  },
  "language_info": {
   "codemirror_mode": {
    "name": "ipython",
    "version": 3
   },
   "file_extension": ".py",
   "mimetype": "text/x-python",
   "name": "python",
   "nbconvert_exporter": "python",
   "pygments_lexer": "ipython3",
   "version": "3.6.5"
  }
 },
 "nbformat": 4,
 "nbformat_minor": 2
}
