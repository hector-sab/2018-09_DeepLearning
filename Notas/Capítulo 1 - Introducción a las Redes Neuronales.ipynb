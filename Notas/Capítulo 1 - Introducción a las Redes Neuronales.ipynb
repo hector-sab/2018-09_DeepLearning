{
 "cells": [
  {
   "cell_type": "code",
   "execution_count": 1,
   "metadata": {},
   "outputs": [],
   "source": [
    "import numpy as np\n",
    "import matplotlib.pyplot as plt\n",
    "import chapter1 as ut"
   ]
  },
  {
   "cell_type": "markdown",
   "metadata": {},
   "source": [
    "# Introducción a las Redes Neuronales"
   ]
  },
  {
   "cell_type": "markdown",
   "metadata": {},
   "source": [
    "En esta sección se describiran los componentes básicos de las redes neuronales."
   ]
  },
  {
   "cell_type": "markdown",
   "metadata": {},
   "source": [
    "# Esenciales\n",
    "Cuando trabajamos con redes neuronales, hay que tener presente algunos terminos que seran constantes a lo largo de todos los proyectos. Una lista de ellos es la siguiente:\n",
    "\n",
    "- Función de activación.\n",
    "- Feed Fordward.\n",
    "- Función de perdida.\n",
    "- Propagación inversa.\n",
    "- Base de datos"
   ]
  },
  {
   "cell_type": "markdown",
   "metadata": {},
   "source": []
  },
  {
   "cell_type": "code",
   "execution_count": null,
   "metadata": {},
   "outputs": [],
   "source": []
  },
  {
   "cell_type": "markdown",
   "metadata": {},
   "source": [
    "# Algebra\n",
    "\n",
    "## Vectores y Matrices\n",
    "\n",
    "Un vector se puede definir como \"un elemento de un espacio vectorial\" en matemáticas, o como \"una magnitud física definida en un sistema de referencia que se caracteriza por tener un módulo (o longitud), dirección, y orientación\" en física.\n",
    "\n",
    "\\begin{align}\n",
    "b = \n",
    "\\begin{bmatrix}\n",
    "b_{0}\\\\b_{1}\\\\b_{2}\\\\\n",
    "\\end{bmatrix}\n",
    "\\end{align}\n",
    "\n",
    "Una matriz, es un arreglo de números.\n",
    "\n",
    "\\begin{align}\n",
    "W =\n",
    "\\begin{bmatrix}\n",
    "W_{0,0} & W_{0,1} & W_{0,2}\\\\\n",
    "W_{1,0} & W_{1,1} & W_{1,2}\\\\\n",
    "W_{2,0} & W_{2,1} & W_{2,2}\n",
    "\\end{bmatrix}\n",
    "\\end{align}\n",
    "\n",
    "## Multiplicacion por un Escalar\n",
    "\n",
    "La multiplicación por un escalar es una operación que afecta por igual a cada elemento de la matriz o vector.\n",
    "\n",
    "Con un vector sucede de la siguiente manera:\n",
    "\n",
    "\\begin{align}\n",
    "3*b = \n",
    "\\begin{bmatrix}\n",
    "3*b_{0}\\\\\n",
    "3*b_{1}\\\\\n",
    "3*b_{2}\n",
    "\\end{bmatrix}\n",
    "\\end{align}\n",
    "\n",
    "Lo mismo aplica para una matriz:\n",
    "\n",
    "\\begin{align}\n",
    "3*W =\n",
    "\\begin{bmatrix}\n",
    "3*W_{0,0} & 3*W_{0,1} & 3*W_{0,2}\\\\\n",
    "3*W_{1,0} & 3*W_{1,1} & 3*W_{1,2}\\\\\n",
    "3*W_{2,0} & 3*W_{2,1} & 3*W_{2,2}\n",
    "\\end{bmatrix}\n",
    "\\end{align}\n",
    "\n",
    "## Multiplicación Matriz-Vector/Matriz-Matriz\n",
    "\n",
    "Cuando nos enfrentamos a este caso, debemos asegurarnos que los dos elementos sean compatibles. Como se ha apreciado con anterioridad, $b$ tiene una forma de $3x1$ y $W$ de $3x3$, por lo que es importante prestar atención el orden en que estos son multiplicados. La regla general es que dado un elemento $A_{mxn}$ y otro $B_{nxo}$, $A*B$ podrá realizarse siempre y cuando $A$ tenga $n$ columnas y $B$ $n$ hileras, y el elemento resultante tendrá una forma $mxo$.\n",
    "\n",
    "\\begin{align}\n",
    "W_{3x3}*b_{3x1} = S_{3x1} =\n",
    "\\begin{bmatrix}\n",
    "W_{0,0}*b_{0} + W_{0,1}*b_{1} + W_{0,2}*b_{2}\\\\\n",
    "W_{1,0}*b_{0} + W_{1,1}*b_{1} + W_{1,2}*b_{2}\\\\\n",
    "W_{2,0}*b_{0} + W_{2,1}*b_{1} + W_{2,2}*b_{2}\n",
    "\\end{bmatrix}\n",
    " =\n",
    "\\begin{bmatrix}\n",
    "S_{0}\\\\ S_{1}\\\\ S_{2}\n",
    "\\end{bmatrix}\n",
    "\\end{align}\n",
    "\n",
    "Si intentamos realizar la operación con el orden de los elementos alterado, simplemente no se puede.\n",
    "\\begin{align}\n",
    "b_{3x1}*W_{3x3} = \\text{No se puede}\n",
    "\\end{align}"
   ]
  },
  {
   "cell_type": "code",
   "execution_count": null,
   "metadata": {},
   "outputs": [],
   "source": []
  },
  {
   "cell_type": "markdown",
   "metadata": {},
   "source": [
    "# Estructura Básica\n",
    "\n",
    "## Neurona Artificial\n",
    "\n",
    "Las neuronas estan compuestas por tres elementos: sus entradas $x_i$, su salida $y$, una función $f(x)$ que modifica a las entradas.\n",
    "\n",
    "<img src=\"https://docs.google.com/drawings/d/e/2PACX-1vQORTSLDLNRgGC8SamXvQuhtWQe0nKawkuX8SUKrs9ORJUnIlXcCBfSWuF2EFZXrPqwR1c91-g0Pifo/pub?w=453&h=242\">\n",
    "\n",
    "La entrada es un vector, y la salida es un número real, mientras que la función intermedia está definida como:\n",
    "\n",
    "\\begin{align}\n",
    "f(x) = \\sigma (WX + b)\n",
    "\\end{align}\n",
    "\n",
    "y sus partes son:\n",
    "- W: Pesos (weights) o el kernel. Puede ser una matriz/vector.\n",
    "- X: Entradas a la neurona. Es un vector\n",
    "- b: Bias.\n",
    "- $\\sigma$: Función de activación.\n",
    "\n",
    "Los pesos y los biases son los responsables de almacenar las características que serán aprendidas por nuestra red. Las funciones de activación nos permiten incorporar comportamientos no lineales a las operaciones; al igual que con los pesos y biases, sin esto nuestra red no tendría la capacidad de resolver problemas complejos. ** Mostrar como se puede separar puntos en un plano 2D con lineas, y sin lineas, en el espacio 3D"
   ]
  },
  {
   "cell_type": "code",
   "execution_count": null,
   "metadata": {},
   "outputs": [],
   "source": []
  },
  {
   "cell_type": "markdown",
   "metadata": {},
   "source": [
    "# Ejemplo: Función Lineal\n",
    "\n",
    "Supongamos que tenemos un arreglo de numeros que van del 0 al 10 y queremos tener una forma de convertirlos al doble de su valor. A simple vista podemos asumir que lo unico que hace falta es tener una función $f(x) = 2x$ para lograr nuestro cometido. ¿Pero que pasa si queremos utilizar redes neuronales artificiales? En ese caso, requerimos solo de una neurona con una entrada y una salida."
   ]
  },
  {
   "cell_type": "code",
   "execution_count": 178,
   "metadata": {},
   "outputs": [
    {
     "name": "stdout",
     "output_type": "stream",
     "text": [
      "[[ 0]\n",
      " [ 2]\n",
      " [ 4]\n",
      " [ 6]\n",
      " [ 8]\n",
      " [10]\n",
      " [12]\n",
      " [14]\n",
      " [16]\n",
      " [18]\n",
      " [20]]\n"
     ]
    }
   ],
   "source": [
    "# Entradas\n",
    "X = np.array([[0],[1],[2],[3],[4],[5],[6],[7],[8],[9],[10]])\n",
    "\n",
    "# Valores esperados\n",
    "Y = np.array([[0],[2],[4],[6],[8],[10],[12],[14],[16],[18],[20]])\n",
    "\n",
    "# Pesos\n",
    "W = np.array([[2]])\n",
    "\n",
    "# Biases\n",
    "b = np.array([0])\n",
    "\n",
    "# Red neuronal\n",
    "s = np.dot(X,W) + b\n",
    "\n",
    "print(s)"
   ]
  },
  {
   "cell_type": "code",
   "execution_count": null,
   "metadata": {},
   "outputs": [],
   "source": []
  },
  {
   "cell_type": "markdown",
   "metadata": {},
   "source": [
    "## Perceptron\n",
    "\n",
    "Ahora vayamos con el perceptron. Lo que caracteriza a este tipo de neurona es su función de activación, que es una función escalón. Esto quiere decir que si el valor resultante de $\\sigma (WX + b)$ es menor que cero, el valor de $y$ se deja en $0$. De forma contraria, si $ \\sigma (WX + b)$ es mayor o igual a cero, el valor de $y$ se establece a $1$.\n",
    "\n",
    "\\begin{align*}\n",
    "\\text{Función Escalón}\\\\\n",
    "\\sigma(s) = \\biggl\\{\n",
    "\\begin{matrix}\n",
    "0 & if 0>x\\\\\n",
    "1 & if x\\geq 0\n",
    "\\end{matrix}\n",
    "\\end{align*}\n",
    "\n",
    "### Ejemplo\n",
    "\n",
    "Dada la operación AND, determinar el perceptrón genere un área de desición acorde a su tabla de verdad.\n",
    "\n",
    "| $x_0$ | $x_1$ | $y$ |\n",
    "|---------------------|\n",
    "|   1   |   1   |  1  |\n",
    "|   1   |   0   |  0  |\n",
    "|   0   |   1   |  0  |\n",
    "|   0   |   0   |  0  |\n",
    "\n",
    "Visto de otra forma, la tabla de verdad se puede ver en una plano cartesiano como se muestra a continuación."
   ]
  },
  {
   "cell_type": "code",
   "execution_count": 3,
   "metadata": {},
   "outputs": [
    {
     "data": {
      "image/png": "[encoded data removed]",
      "text/plain": [
       "<Figure size 432x288 with 1 Axes>"
      ]
     },
     "metadata": {},
     "output_type": "display_data"
    }
   ],
   "source": [
    "ut.plot_AND()"
   ]
  },
  {
   "cell_type": "markdown",
   "metadata": {},
   "source": [
    "Ahora ¿Cual es la estructura para resolver este problema? \n",
    "\n",
    "Esta tarea en particular requiere solo una neurona, como podemos apreciar es un problema que se puede resolver con una función lineal. Ya que tenemos dos entradas y una salida (si es cero o uno), los pesos $W$ tendrán la forma $2x1$, y $b$ simplemente tendrá un valor.\n",
    "\n",
    "En otras palabras, la función que debemos encontrar en una como la siguiente:\n",
    "\n",
    "\\begin{align}\n",
    "y = \\sigma (X_0 * W_0 + X_1 * W_1 + b_0)\n",
    "\\end{align}"
   ]
  },
  {
   "cell_type": "code",
   "execution_count": 200,
   "metadata": {},
   "outputs": [
    {
     "name": "stdout",
     "output_type": "stream",
     "text": [
      "Valores de entrada:\n",
      " [[1 1]\n",
      " [1 0]\n",
      " [0 1]\n",
      " [0 0]]\n",
      " Pesos:\n",
      " [[0.5]\n",
      " [0.1]]\n",
      " Bias:\n",
      " [[0]]\n",
      "\n",
      "[[0.64565631]\n",
      " [0.62245933]\n",
      " [0.52497919]\n",
      " [0.5       ]]\n",
      "Predicciones:\n",
      " [[1]\n",
      " [1]\n",
      " [1]\n",
      " [0]]\n"
     ]
    },
    {
     "data": {
      "image/png": "[encoded data removed]",
      "text/plain": [
       "<Figure size 432x288 with 1 Axes>"
      ]
     },
     "metadata": {},
     "output_type": "display_data"
    }
   ],
   "source": [
    "# Definimos nuestras entradas\n",
    "X = np.array([[1,1],\n",
    "              [1,0],\n",
    "              [0,1],\n",
    "              [0,0]])\n",
    "\n",
    "# 0.2 and 0.2\n",
    "W = np.array([[0.5],[0.1]])\n",
    "\n",
    "# -0.2\n",
    "b = np.array([[0]])\n",
    "\n",
    "# Definimos los valores de salida que deseamos\n",
    "Y = np.array([[1],\n",
    "              [0],\n",
    "              [0],\n",
    "              [0]])\n",
    "\n",
    "\n",
    "\n",
    "\n",
    "print('Valores de entrada:\\n {}\\n Pesos:\\n {}\\n Bias:\\n {}\\n'.format(X,W,b))\n",
    "\n",
    "# Predecimos los valores de nuestra red\n",
    "s = np.dot(X,W) + b\n",
    "y_pred = ut.sigmoid(s)\n",
    "print(y_pred)\n",
    "y_pred = (y_pred>0.5).astype(np.int32)\n",
    "\n",
    "print('Predicciones:\\n {}'.format(y_pred))\n",
    "\n",
    "ut.plot_pred_AND(X,y_pred)"
   ]
  },
  {
   "cell_type": "code",
   "execution_count": 201,
   "metadata": {},
   "outputs": [
    {
     "data": {
      "image/png": "[encoded data removed]",
      "text/plain": [
       "<Figure size 432x288 with 1 Axes>"
      ]
     },
     "metadata": {},
     "output_type": "display_data"
    }
   ],
   "source": [
    "# Area de desición\n",
    "ut.plot_area_AND(W,b)"
   ]
  },
  {
   "cell_type": "code",
   "execution_count": 202,
   "metadata": {},
   "outputs": [],
   "source": [
    "def sigmoid(x):\n",
    "    y = 1/(1+np.exp(-x))\n",
    "    return(y)\n",
    "\n",
    "def dsigmoid(x):\n",
    "    dsig = sigmoid(x)*(1 - sigmoid(x))\n",
    "    return(dsig)\n",
    "\n",
    "def train_AND(X,Y,W,b,lr=0.01,verbose=False):\n",
    "    # W has Shape [2,1]\n",
    "    # b has Shape [1,1]\n",
    "    \n",
    "    # Feed-Forward\n",
    "    s_pre = np.dot(X,W)\n",
    "    s = s_pre + b\n",
    "    y_pred = sigmoid(s)\n",
    "    \n",
    "    # Loss\n",
    "    losses = (Y-y_pred)**2\n",
    "    loss = np.sum(losses)/Y.shape[0]\n",
    "    \n",
    "    # Back-Propagation\n",
    "    dL = np.ones_like(y_pred) #(-2/Y.shape[0])*np.sum(Y-y_pred)\n",
    "    dsigma = dsigmoid(y_pred) * dL\n",
    "    \n",
    "    db = np.sum(dsigma)/Y.shape[0]\n",
    "    \n",
    "    dW = np.dot(dsigma.T,X)/Y.shape[0]\n",
    "    \n",
    "    \n",
    "    new_W = W + lr*dW.T\n",
    "    new_b = b + lr*db\n",
    "    \n",
    "    if verbose:\n",
    "        print('Y:\\n{}'.format(Y))\n",
    "        print('\\ny_pred:\\n{}'.format(y_pred))\n",
    "        print('\\nLosses:\\n{}'.format(losses))\n",
    "        print('\\nLoss:\\n{}'.format(loss))\n",
    "        print('\\ndsigma:\\n{}'.format(dsigma))\n",
    "        print('\\ndb:\\n{}'.format(db))\n",
    "        print('\\ndW:\\n{}'.format(dW))\n",
    "    \n",
    "    return(new_W,new_b)"
   ]
  },
  {
   "cell_type": "code",
   "execution_count": 203,
   "metadata": {},
   "outputs": [
    {
     "name": "stdout",
     "output_type": "stream",
     "text": [
      "[[1 1]\n",
      " [1 0]\n",
      " [0 1]\n",
      " [0 0]]\n",
      "[[1]\n",
      " [0]\n",
      " [0]\n",
      " [0]]\n",
      "\n",
      "tmp_W:\n",
      "[[0.5]\n",
      " [0.1]]\n",
      "\n",
      "tmp_b[[0]]\n"
     ]
    }
   ],
   "source": [
    "#print(W)\n",
    "#print(b)\n",
    "print(X)\n",
    "print(Y)\n",
    "\n",
    "tmp_W = W\n",
    "tmp_b = b\n",
    "print('\\ntmp_W:\\n{}'.format(tmp_W))\n",
    "print('\\ntmp_b:\\b{}'.format(tmp_b))"
   ]
  },
  {
   "cell_type": "code",
   "execution_count": 211,
   "metadata": {},
   "outputs": [
    {
     "name": "stdout",
     "output_type": "stream",
     "text": [
      "Y:\n",
      "[[1]\n",
      " [0]\n",
      " [0]\n",
      " [0]]\n",
      "\n",
      "y_pred:\n",
      "[[1.]\n",
      " [1.]\n",
      " [1.]\n",
      " [1.]]\n",
      "\n",
      "Losses:\n",
      "[[0.]\n",
      " [1.]\n",
      " [1.]\n",
      " [1.]]\n",
      "\n",
      "Loss:\n",
      "0.75\n",
      "\n",
      "dsigma:\n",
      "[[0.19661193]\n",
      " [0.19661193]\n",
      " [0.19661193]\n",
      " [0.19661193]]\n",
      "\n",
      "db:\n",
      "0.19661193324148185\n",
      "\n",
      "dW:\n",
      "[[0.09830597 0.09830597]]\n",
      "\n",
      "tmp_W:\n",
      "[[24.14893425]\n",
      " [23.75940146]]\n",
      "\n",
      "tmp_b[[47.35525342]]\n"
     ]
    },
    {
     "data": {
      "image/png": "[encoded data removed]",
      "text/plain": [
       "<Figure size 432x288 with 1 Axes>"
      ]
     },
     "metadata": {},
     "output_type": "display_data"
    }
   ],
   "source": [
    "for i in range(1):\n",
    "    tmp_W,tmp_b = train_AND(X,Y,tmp_W,tmp_b,lr=0.01,verbose=True)\n",
    "\n",
    "print('\\ntmp_W:\\n{}'.format(tmp_W))\n",
    "print('\\ntmp_b:\\b{}'.format(tmp_b))\n",
    "\n",
    "# Area de desición\n",
    "ut.plot_area_AND(tmp_W,tmp_b)"
   ]
  },
  {
   "cell_type": "code",
   "execution_count": null,
   "metadata": {},
   "outputs": [],
   "source": []
  },
  {
   "cell_type": "code",
   "execution_count": null,
   "metadata": {},
   "outputs": [],
   "source": []
  }
 ],
 "metadata": {
  "kernelspec": {
   "display_name": "Python 3",
   "language": "python",
   "name": "python3"
  },
  "language_info": {
   "codemirror_mode": {
    "name": "ipython",
    "version": 3
   },
   "file_extension": ".py",
   "mimetype": "text/x-python",
   "name": "python",
   "nbconvert_exporter": "python",
   "pygments_lexer": "ipython3",
   "version": "3.6.5"
  }
 },
 "nbformat": 4,
 "nbformat_minor": 2
}
