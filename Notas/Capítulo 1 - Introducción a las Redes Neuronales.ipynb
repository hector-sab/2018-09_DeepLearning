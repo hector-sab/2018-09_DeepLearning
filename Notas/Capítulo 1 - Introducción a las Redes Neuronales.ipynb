{
 "cells": [
  {
   "cell_type": "markdown",
   "metadata": {},
   "source": [
    "# Introducción a las Redes Neuronales"
   ]
  },
  {
   "cell_type": "markdown",
   "metadata": {},
   "source": [
    "En esta sección se describiran los componentes básicos de las redes neuronales."
   ]
  },
  {
   "cell_type": "markdown",
   "metadata": {},
   "source": [
    "# Escenciales\n",
    "Cuando trabajamos con redes neuronales, hay que tener presente algunos terminos que seran constantes a lo largo de todos los proyectos. Una lista de ellos es la siguiente:\n",
    "\n",
    "- Función de activación.\n",
    "- Feed Fordward.\n",
    "- Función de perdida.\n",
    "- Propagación inversa.\n",
    "- Base de datos"
   ]
  },
  {
   "cell_type": "markdown",
   "metadata": {},
   "source": []
  },
  {
   "cell_type": "markdown",
   "metadata": {},
   "source": [
    "# Algebra\n",
    "\n",
    "## Vectores y Matrices\n",
    "\n",
    "Un vector se puede definir como \"un elemento de un espacio vectorial\" en matemáticas, o como \"una magnitud física definida en un sistema de referencia que se caracteriza por tener un módulo (o longitud), dirección, y orientación\" en física.\n",
    "\n",
    "\\begin{align}\n",
    "b = \n",
    "\\begin{bmatrix}\n",
    "b_{0}\\\\b_{1}\\\\b_{2}\\\\\n",
    "\\end{bmatrix}\n",
    "\\end{align}\n",
    "\n",
    "Una matriz, es un arreglo de números.\n",
    "\n",
    "\\begin{align}\n",
    "W =\n",
    "\\begin{bmatrix}\n",
    "W_{0,0} & W_{0,1} & W_{0,2}\\\\\n",
    "W_{1,0} & W_{1,1} & W_{1,2}\\\\\n",
    "W_{2,0} & W_{2,1} & W_{2,2}\n",
    "\\end{bmatrix}\n",
    "\\end{align}\n",
    "\n",
    "## Multiplicacion por un Escalar\n",
    "\n",
    "La multiplicación por un escalar es una operación que afecta por igual a cada elemento de la matriz o vector.\n",
    "\n",
    "Con un vector sucede de la siguiente manera:\n",
    "\n",
    "\\begin{align}\n",
    "3*b = \n",
    "\\begin{bmatrix}\n",
    "3*b_{0}\\\\\n",
    "3*b_{1}\\\\\n",
    "3*b_{2}\n",
    "\\end{bmatrix}\n",
    "\\end{align}\n",
    "\n",
    "Lo mismo aplica para una matriz:\n",
    "\n",
    "\\begin{align}\n",
    "3*W =\n",
    "\\begin{bmatrix}\n",
    "3*W_{0,0} & 3*W_{0,1} & 3*W_{0,2}\\\\\n",
    "3*W_{1,0} & 3*W_{1,1} & 3*W_{1,2}\\\\\n",
    "3*W_{2,0} & 3*W_{2,1} & 3*W_{2,2}\n",
    "\\end{bmatrix}\n",
    "\\end{align}\n",
    "\n",
    "## Multiplicación Matriz-Vector/Matriz-Matriz\n",
    "\n",
    "Cuando nos enfrentamos a este caso, debemos asegurarnos que los dos elementos sean compatibles. Como se ha apreciado con anterioridad, $b$ tiene una forma de $3x1$ y $W$ de $3x3$, por lo que es importante prestar atención el orden en que estos son multiplicados. La regla general es que dado un elemento $A_{mxn}$ y otro $B_{nxo}$, $A*B$ podrá realizarse siempre y cuando $A$ tenga $n$ columnas y $B$ $n$ hileras, y el elemento resultante tendrá una forma $mxo$.\n",
    "\n",
    "\\begin{align}\n",
    "W_{3x3}*b_{3x1} = S_{3x1} =\n",
    "\\begin{bmatrix}\n",
    "W_{0,0}*b_{0} + W_{0,1}*b_{1} + W_{0,2}*b_{2}\\\\\n",
    "W_{1,0}*b_{0} + W_{1,1}*b_{1} + W_{1,2}*b_{2}\\\\\n",
    "W_{2,0}*b_{0} + W_{2,1}*b_{1} + W_{2,2}*b_{2}\n",
    "\\end{bmatrix}\n",
    " =\n",
    "\\begin{bmatrix}\n",
    "S_{0}\\\\ S_{1}\\\\ S_{2}\n",
    "\\end{bmatrix}\n",
    "\\end{align}\n",
    "\n",
    "Si intentamos realizar la operación con el orden de los elementos alterado, simplemente no se puede.\n",
    "\\begin{align}\n",
    "b_{3x1}*W_{3x3} = \\text{No se puede}\n",
    "\\end{align}"
   ]
  },
  {
   "cell_type": "code",
   "execution_count": null,
   "metadata": {},
   "outputs": [],
   "source": []
  },
  {
   "cell_type": "markdown",
   "metadata": {},
   "source": [
    "# Estructura Básica\n",
    "\n",
    "## Neurona Artificial\n",
    "\n",
    "Las neuronas estan compuestas por tres elementos, sus entradas $X_i$, su salida $y$, una función $f(x)$ que modifica a las entradas.\n",
    "\n",
    "<img src=\"https://docs.google.com/drawings/d/e/2PACX-1vQORTSLDLNRgGC8SamXvQuhtWQe0nKawkuX8SUKrs9ORJUnIlXcCBfSWuF2EFZXrPqwR1c91-g0Pifo/pub?w=453&h=242\">"
   ]
  },
  {
   "cell_type": "code",
   "execution_count": null,
   "metadata": {},
   "outputs": [],
   "source": []
  }
 ],
 "metadata": {
  "kernelspec": {
   "display_name": "Python 3",
   "language": "python",
   "name": "python3"
  },
  "language_info": {
   "codemirror_mode": {
    "name": "ipython",
    "version": 3
   },
   "file_extension": ".py",
   "mimetype": "text/x-python",
   "name": "python",
   "nbconvert_exporter": "python",
   "pygments_lexer": "ipython3",
   "version": "3.6.5"
  }
 },
 "nbformat": 4,
 "nbformat_minor": 2
}
