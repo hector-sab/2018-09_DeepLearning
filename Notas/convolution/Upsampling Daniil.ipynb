{
 "cells": [
  {
   "cell_type": "markdown",
   "metadata": {},
   "source": [
    "# Upsampling\n",
    "Example from\n",
    "http://warmspringwinds.github.io/tensorflow/tf-slim/2016/11/22/upsampling-and-image-segmentation-with-tensorflow-and-tf-slim/"
   ]
  },
  {
   "cell_type": "code",
   "execution_count": 6,
   "metadata": {},
   "outputs": [
    {
     "name": "stdout",
     "output_type": "stream",
     "text": [
      "[[ 0.          0.16666667  0.33333333]\n",
      " [ 0.16666667  0.33333333  0.5       ]\n",
      " [ 0.33333333  0.5         0.66666667]]\n"
     ]
    },
    {
     "data": {
      "image/png": "[encoded data removed]",
      "text/plain": [
       "<matplotlib.figure.Figure at 0x2567d4bf7b8>"
      ]
     },
     "metadata": {},
     "output_type": "display_data"
    }
   ],
   "source": [
    "%matplotlib inline\n",
    "\n",
    "import numpy as np #ogrid, repeat, newaxis\n",
    "from skimage import io\n",
    "\n",
    "\"\"\"\n",
    "Generate image that will be used for test upsampling.\n",
    "Number of channels is 3 --  we also treat the number of \n",
    "samples like the number of classes, because later on \n",
    "that will be used to upsample preductions from the network\n",
    "\"\"\"\n",
    "\n",
    "imsize = 3\n",
    "x,y = np.ogrid[:imsize, :imsize]\n",
    "img = np.repeat((x+y)[...,np.newaxis],3,2)/float(imsize + imsize)\n",
    "io.imshow(img,interpolation='none')\n",
    "print(img[:,:,0])"
   ]
  },
  {
   "cell_type": "code",
   "execution_count": 2,
   "metadata": {
    "collapsed": true
   },
   "outputs": [],
   "source": [
    "import skimage.transform\n",
    "\n",
    "def upsample_skimage(factor, input_img):\n",
    "    # Pad with 0 values, similar to how TF does it\n",
    "    # Order=1 is bilinear upsampling\n",
    "    \n",
    "    return skimage.transform.rescale(input_img,\n",
    "                                     factor,\n",
    "                                     mode='constant',\n",
    "                                     cval=0,\n",
    "                                     order=1)"
   ]
  },
  {
   "cell_type": "code",
   "execution_count": 8,
   "metadata": {},
   "outputs": [
    {
     "name": "stdout",
     "output_type": "stream",
     "text": [
      "[[ 0.          0.03125     0.09375     0.15625     0.21875     0.1875    ]\n",
      " [ 0.03125     0.08333333  0.16666667  0.25        0.33333333  0.28125   ]\n",
      " [ 0.09375     0.16666667  0.25        0.33333333  0.41666667  0.34375   ]\n",
      " [ 0.15625     0.25        0.33333333  0.41666667  0.5         0.40625   ]\n",
      " [ 0.21875     0.33333333  0.41666667  0.5         0.58333333  0.46875   ]\n",
      " [ 0.1875      0.28125     0.34375     0.40625     0.46875     0.375     ]]\n"
     ]
    },
    {
     "data": {
      "image/png": "[encoded data removed]",
      "text/plain": [
       "<matplotlib.figure.Figure at 0x256004fc4a8>"
      ]
     },
     "metadata": {},
     "output_type": "display_data"
    }
   ],
   "source": [
    "upsampled_img_skimage = upsample_skimage(factor=2,input_img=img)\n",
    "io.imshow(upsampled_img_skimage, interpolation='none')\n",
    "print(upsampled_img_skimage[:,:,0])"
   ]
  },
  {
   "cell_type": "code",
   "execution_count": 9,
   "metadata": {
    "collapsed": true
   },
   "outputs": [],
   "source": [
    "#impprt numpy as np\n",
    "import tensorflow as tf\n",
    "\n",
    "def get_kernel_size(factor):\n",
    "    \"\"\"\n",
    "    Find the kernel size given the desired factor of upsampling\n",
    "    \"\"\"\n",
    "    return(2*factor-factor%2)\n",
    "\n",
    "def upsample_filt(size):\n",
    "    \"\"\"\n",
    "    Make a 2D bilinear kernel suitable for upsampling of the given (h,w) size\n",
    "    \"\"\"\n",
    "    factor = (size + 1) // 2\n",
    "    \n",
    "    if size%2==1:\n",
    "        center = factor-1\n",
    "    else:\n",
    "        center = factor-0.5\n",
    "    \n",
    "    og = np.ogrid[:size, :size]\n",
    "    \n",
    "    return((1 - abs(og[0] - center) / factor) * \\\n",
    "           (1 - abs(og[1] - center) / factor) )\n",
    "\n",
    "def bilinear_upsample_weights(factor, number_of_classes):\n",
    "    \"\"\"\n",
    "    Create weights matrix for transposed convolution with bilinear filter\n",
    "    initialization\n",
    "    \"\"\"\n",
    "    \n",
    "    filter_size = get_kernel_size(factor)\n",
    "    \n",
    "    weights = np.zeros((filter_size,\n",
    "                       filter_size,\n",
    "                       number_of_classes,\n",
    "                       number_of_classes), dtype=np.float32)\n",
    "    \n",
    "    upsample_kernel = upsample_filt(filter_size)\n",
    "    print(upsample_kernel)\n",
    "    for i in range(number_of_classes):\n",
    "        weights[:,:,i,i] = upsample_kernel\n",
    "    \n",
    "    return(weights)\n",
    "\n",
    "def upsample_tf(factor, input_img):\n",
    "    number_of_classes = input_img.shape[2]\n",
    "    \n",
    "    new_height = input_img.shape[0] * factor\n",
    "    new_width = input_img.shape[1] * factor\n",
    "    \n",
    "    expanded_img = np.expand_dims(input_img, axis=0)\n",
    "    \n",
    "    with tf.Graph().as_default():\n",
    "        with tf.Session() as sess:\n",
    "            upsample_filt_pl = tf.placeholder(tf.float32)\n",
    "            logits_pl = tf.placeholder(tf.float32)\n",
    "            upsample_filter_np = bilinear_upsample_weights(factor, \n",
    "                                                           number_of_classes)\n",
    "            res = tf.nn.conv2d_transpose(logits_pl, \n",
    "                                          upsample_filt_pl,\n",
    "                                          output_shape=[1,\n",
    "                                                       new_height,\n",
    "                                                       new_width,\n",
    "                                                       number_of_classes],\n",
    "                                          strides=[1,factor,factor,1])\n",
    "            final_result = sess.run(res,\n",
    "                               feed_dict={upsample_filt_pl: upsample_filter_np,\n",
    "                                          logits_pl: expanded_img})\n",
    "    return(final_result.squeeze())"
   ]
  },
  {
   "cell_type": "code",
   "execution_count": 15,
   "metadata": {},
   "outputs": [
    {
     "name": "stdout",
     "output_type": "stream",
     "text": [
      "[[ 0.0625  0.1875  0.1875  0.0625]\n",
      " [ 0.1875  0.5625  0.5625  0.1875]\n",
      " [ 0.1875  0.5625  0.5625  0.1875]\n",
      " [ 0.0625  0.1875  0.1875  0.0625]]\n",
      "[[ 0.          0.03125     0.09375     0.15625     0.21875     0.1875    ]\n",
      " [ 0.03125     0.08333334  0.16666666  0.25        0.33333331  0.28125   ]\n",
      " [ 0.09375     0.16666666  0.25        0.33333334  0.41666666  0.34375   ]\n",
      " [ 0.15625     0.25        0.33333331  0.41666666  0.5         0.40625   ]\n",
      " [ 0.21875     0.33333334  0.41666666  0.5         0.58333337  0.46875   ]\n",
      " [ 0.1875      0.28125     0.34375     0.40625     0.46875     0.375     ]]\n"
     ]
    },
    {
     "data": {
      "image/png": "[encoded data removed]",
      "text/plain": [
       "<matplotlib.figure.Figure at 0x2560270bc88>"
      ]
     },
     "metadata": {},
     "output_type": "display_data"
    }
   ],
   "source": [
    "upsampled_img_tf = upsample_tf(factor=2, input_img=img)\n",
    "io.imshow(upsampled_img_tf)\n",
    "print(upsampled_img_tf[:,:,0])"
   ]
  },
  {
   "cell_type": "code",
   "execution_count": 13,
   "metadata": {},
   "outputs": [
    {
     "data": {
      "text/plain": [
       "<matplotlib.image.AxesImage at 0x256026ba940>"
      ]
     },
     "execution_count": 13,
     "metadata": {},
     "output_type": "execute_result"
    },
    {
     "data": {
      "image/png": "[encoded data removed]",
      "text/plain": [
       "<matplotlib.figure.Figure at 0x2567b712cf8>"
      ]
     },
     "metadata": {},
     "output_type": "display_data"
    }
   ],
   "source": [
    "# Just visualizing the kernel\n",
    "tmp = np.array([[0.0625, 0.1875, 0.1875, 0.0625],\n",
    "                [0.1875, 0.5625, 0.5625, 0.1875],\n",
    "                [0.1875, 0.5625, 0.5625, 0.1875],\n",
    "                [0.0625, 0.1875, 0.1875, 0.0625]])\n",
    "io.imshow(tmp)"
   ]
  },
  {
   "cell_type": "code",
   "execution_count": 20,
   "metadata": {},
   "outputs": [
    {
     "data": {
      "text/plain": [
       "True"
      ]
     },
     "execution_count": 20,
     "metadata": {},
     "output_type": "execute_result"
    }
   ],
   "source": [
    "# Test if the results of upsampling are the same\n",
    "np.allclose(upsampled_img_skimage, upsampled_img_tf)"
   ]
  },
  {
   "cell_type": "code",
   "execution_count": 22,
   "metadata": {},
   "outputs": [
    {
     "name": "stdout",
     "output_type": "stream",
     "text": [
      "Check for factor 2: True\n",
      "Check for factor 3: True\n",
      "Check for factor 4: True\n",
      "Check for factor 5: True\n",
      "Check for factor 6: True\n",
      "Check for factor 7: True\n",
      "Check for factor 8: True\n",
      "Check for factor 9: True\n"
     ]
    },
    {
     "data": {
      "text/plain": [
       "<matplotlib.image.AxesImage at 0x29997cfef60>"
      ]
     },
     "execution_count": 22,
     "metadata": {},
     "output_type": "execute_result"
    },
    {
     "data": {
      "image/png": "[encoded data removed]",
      "text/plain": [
       "<matplotlib.figure.Figure at 0x29997ce7240>"
      ]
     },
     "metadata": {},
     "output_type": "display_data"
    }
   ],
   "source": [
    "for factor in range(2, 10):\n",
    "    upsampled_img_skimage = upsample_skimage(factor=factor, input_img=img)\n",
    "    upsampled_img_tf = upsample_tf(factor=factor, input_img=img)\n",
    "    \n",
    "    are_equal = np.allclose(upsampled_img_skimage, upsampled_img_tf)\n",
    "    \n",
    "    print(\"Check for factor {}: {}\".format(factor, are_equal))\n",
    "\n",
    "io.imshow(upsampled_img_tf)"
   ]
  },
  {
   "cell_type": "code",
   "execution_count": null,
   "metadata": {
    "collapsed": true
   },
   "outputs": [],
   "source": []
  }
 ],
 "metadata": {
  "kernelspec": {
   "display_name": "Python 3",
   "language": "python",
   "name": "python3"
  },
  "language_info": {
   "codemirror_mode": {
    "name": "ipython",
    "version": 3
   },
   "file_extension": ".py",
   "mimetype": "text/x-python",
   "name": "python",
   "nbconvert_exporter": "python",
   "pygments_lexer": "ipython3",
   "version": "3.5.4"
  }
 },
 "nbformat": 4,
 "nbformat_minor": 2
}
