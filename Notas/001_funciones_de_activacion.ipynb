{
 "cells": [
  {
   "cell_type": "code",
   "execution_count": 1,
   "metadata": {
    "slideshow": {
     "slide_type": "-"
    }
   },
   "outputs": [],
   "source": [
    "import numpy as np\n",
    "import matplotlib.pyplot as plt\n",
    "%matplotlib inline"
   ]
  },
  {
   "cell_type": "markdown",
   "metadata": {},
   "source": [
    "# Funciones de Activacion\n",
    "\n",
    "En Deep Learning, despues de cada capa de neuronas, suele añadirse una función de activación. Esto se hace para introducir respuestas no lineales y así el modelo sea capaz de \"aprender\" funciones más complejas.\n",
    "\n",
    "Las funciones de activación típicas son las siguientes:"
   ]
  },
  {
   "cell_type": "markdown",
   "metadata": {},
   "source": [
    "## Escalón\n",
    "\n",
    "La función escalón genera una respuesta binaria, uno si x es mayor que 0, cero en caso contrario. \n",
    "\n",
    "Esta se expresa de la siguiente manera:\n",
    "\n",
    "\\begin{align*}\n",
    "s(x) = \\biggl\\{\n",
    "\\begin{matrix}\n",
    "0 & if & 0>x\\\\\n",
    "1 & if & x\\geq 0\n",
    "\\end{matrix}\n",
    "\\end{align*}"
   ]
  },
  {
   "cell_type": "code",
   "execution_count": 4,
   "metadata": {},
   "outputs": [
    {
     "data": {
      "text/plain": [
       "[<matplotlib.lines.Line2D at 0x7f6aca911ba8>]"
      ]
     },
     "execution_count": 4,
     "metadata": {},
     "output_type": "execute_result"
    },
    {
     "data": {
      "image/png": "[encoded data removed]",
      "text/plain": [
       "<Figure size 432x288 with 1 Axes>"
      ]
     },
     "metadata": {},
     "output_type": "display_data"
    }
   ],
   "source": [
    "# Definimos nuestra funcion escalon\n",
    "def step(x):\n",
    "    # Funcion de activación de escalon\n",
    "    # Args:\n",
    "    #    x (int|list|np.array): Valores a los que se le aplicaran\n",
    "    #        al escalon.\n",
    "    #\n",
    "    # Salidas:\n",
    "    #    y (np.array): Valor del escalon correspondiente a x.\n",
    "    y =  (x>=0).astype(np.float)\n",
    "    return(y)\n",
    "\n",
    "x = np.linspace(-10,10,1000) # Crea un arreglo de 1000 números que van del-10 al 10\n",
    "y = step(x) # Calcula los valores en y\n",
    "plt.plot(x,y) # Muestra la gráfica"
   ]
  },
  {
   "cell_type": "markdown",
   "metadata": {},
   "source": [
    "## Sigmoide\n",
    "\n",
    "También conocida como la función logística, en ciertas ocaciones nos interesará que el resultado de nuestro modelo esté dado en un rango de \\[0,1\\]. Si queremos decidir si un estudiante pasa el examen, o si queremos saber la probabilidad de que nuestro equipo favorito de futból gane el partido este estará dado por un porcentaje.\n",
    "\n",
    "Cuando el valor de $x$ tiende a $-\\infty$, $y$ se aporxima a cero. Por el contrario, si $x$ tiende a $\\infty$, $y$ se acerca a uno.\n",
    "\n",
    "Su ecuación esta definida como:\n",
    "\n",
    "\\begin{align*}\n",
    "\\sigma(x) = \\frac{1}{1+e^{-x}}\n",
    "\\end{align*}"
   ]
  },
  {
   "cell_type": "code",
   "execution_count": 5,
   "metadata": {},
   "outputs": [
    {
     "data": {
      "text/plain": [
       "[<matplotlib.lines.Line2D at 0x7f6aca8f9dd8>]"
      ]
     },
     "execution_count": 5,
     "metadata": {},
     "output_type": "execute_result"
    },
    {
     "data": {
      "image/png": "[encoded data removed]",
      "text/plain": [
       "<Figure size 432x288 with 1 Axes>"
      ]
     },
     "metadata": {},
     "output_type": "display_data"
    }
   ],
   "source": [
    "# Definimos nuestra funcion sigmoide\n",
    "def sigmoid(x):\n",
    "    # Funcion de activación sigmoide\n",
    "    # Args:\n",
    "    #    x (int|list|np.array): Valores a los que se le aplicará\n",
    "    #        la sigmoide.\n",
    "    #\n",
    "    # Salidas:\n",
    "    #    y (np.array): Valor de sigmoide correspondiente a x.\n",
    "    y = 1/(1+np.exp(-x))\n",
    "    return(y)\n",
    "\n",
    "x = np.linspace(-10,10,1000) # Crea un arreglo de 1000 números que van del-10 al 10\n",
    "y = sigmoid(x) # Calcula los valores en y\n",
    "plt.plot(x,y) # Muestra la gráfica"
   ]
  },
  {
   "cell_type": "markdown",
   "metadata": {},
   "source": [
    "## Tangente Hiperbólica\n",
    "\n",
    "Similar a la funcion sigmoide, la tangente hiperbólica mapea las salidas del modelo a un invervalo \\[-1,1\\]. Cuando $x$ tiende a $-\\infty$, $y$ se aproxima a $-1$. Cuando $x$ tiende a $\\infty$, $y$ se acerca a $1$.\n",
    "\n",
    "Su equación está expresada de la siguiente manera:\n",
    "\n",
    "\\begin{align*}\n",
    "tanh(x) = \\frac{1-e^{-2x}}{1+e^{-2x}}\n",
    "\\end{align*}"
   ]
  },
  {
   "cell_type": "code",
   "execution_count": 6,
   "metadata": {},
   "outputs": [
    {
     "data": {
      "text/plain": [
       "[<matplotlib.lines.Line2D at 0x7f6aca8601d0>]"
      ]
     },
     "execution_count": 6,
     "metadata": {},
     "output_type": "execute_result"
    },
    {
     "data": {
      "image/png": "[encoded data removed]",
      "text/plain": [
       "<Figure size 432x288 with 1 Axes>"
      ]
     },
     "metadata": {},
     "output_type": "display_data"
    }
   ],
   "source": [
    "# Definimos nuestra funcion de tangente hiperbolica\n",
    "def tanh(x):\n",
    "    # Funcion de activación sigmoide\n",
    "    # Args:\n",
    "    #    x (int|list|np.array): Valores a los que se le aplicará\n",
    "    #        la tangente hiperbolica.\n",
    "    #\n",
    "    # Salidas:\n",
    "    #    y (np.array): Valor de la tangente hiperbolica correspondiente a x.\n",
    "    num = 1-np.exp(-2*x)\n",
    "    denom = 1+np.exp(-2*x)\n",
    "    y = num/denom\n",
    "    return(y)\n",
    "\n",
    "x = np.linspace(-10,10,1000) # Crea un arreglo de 1000 numeros que van del-10 al 10\n",
    "y = tanh(x) # Calcula los valores en y\n",
    "plt.plot(x,y) # Muestra la grafica"
   ]
  },
  {
   "cell_type": "markdown",
   "metadata": {},
   "source": [
    "## ReLU\n",
    "\n",
    "Al transcurrir el tiempo, se empezó a notar que el trabajar con funciones de activación como la sigmoide o la tangente hiperbólica traen consigo un problema. En estas funciones, conforme más alejado sea el valor de entrada de cero más se reduce el valor del gradiente. Lo que se puede traducir en mayor cantidad de tiempo requerido para entrenar a nuestros modelos. En la siguiente figura se puede apreciar como el greadiente que está más alejado de cero tiende a aproximarse más a cero.\n",
    "\n",
    "<img src=\"https://docs.google.com/drawings/d/e/2PACX-1vQnGebxk1DNDPYBFw9-QAKz3pUMmcSbHPOndAFuAf4RQxHtFMYOrW7EmG2yCEBGP0IzCweQHFq4wr5G/pub?w=483&h=439\">\n",
    "\n",
    "Para sobrellevar esto, se desarrollo la función de activación ReLU (Rectified Linear Unit, o Unidad de Rectificación Lineal en español). A diferencia de las funciones previamente discutidas, esta función mantiene intacto el valor de la salida de nuestro modelo mientras este sea mayor que cero, de lo contrario lo establece a cero.\n",
    "\n",
    "La equación que la define es la siguiente:\n",
    "\n",
    "\\begin{align*}\n",
    "ReLU(x) = max(0,x)\n",
    "\\end{align*}"
   ]
  },
  {
   "cell_type": "code",
   "execution_count": 7,
   "metadata": {},
   "outputs": [
    {
     "data": {
      "text/plain": [
       "[<matplotlib.lines.Line2D at 0x7f6aca83fb70>]"
      ]
     },
     "execution_count": 7,
     "metadata": {},
     "output_type": "execute_result"
    },
    {
     "data": {
      "image/png": "[encoded data removed]",
      "text/plain": [
       "<Figure size 432x288 with 1 Axes>"
      ]
     },
     "metadata": {},
     "output_type": "display_data"
    }
   ],
   "source": [
    "def relu(x):\n",
    "    # Funcion de activación sigmoide\n",
    "    # Args:\n",
    "    #    x (int|list|np.array): Valores a los que se le aplicará\n",
    "    #        la unidad de rectificacion lineal.\n",
    "    #\n",
    "    # Salidas:\n",
    "    #    y (np.array): Valor de la unindad de rectificacion lineal correspondiente a x.\n",
    "    y = np.maximum(0,x)\n",
    "    return(y)\n",
    "\n",
    "x = np.linspace(-10,10,1000) # Crea un arreglo de 1000 numeros que van del-10 al 10\n",
    "y = relu(x) # Calcula los valores en y\n",
    "plt.plot(x,y) # Muestra la grafica"
   ]
  },
  {
   "cell_type": "markdown",
   "metadata": {},
   "source": [
    "## Leaky ReLU\n",
    "\n",
    "El uso de ReLU se ha popularizado en los últimos años. Sin embargo, esta precenta el problema de \"neuronas muertas\". Esto quiere decir que en ocaciones los valores de los pesos son actualizados de tal forma que al utilizar esta función de activación las neuronas jamás se activarán sin importar el tipo de información que introdujamos. La salida de dichas neuronas siempre será cero. Debido a esto, se estábleció Leaky ReLU. Está, al igual que ReLU, no modifica el valor de salida de la neuron si es mayor que cero, pero a diferencia de la primera, si su valor es inferior a cero, el valor de salida será $\\alpha$ su valor original. De esta manera aún tenemos una manera de propagar el gradiente por estas neuronas aún cuando su valor es menor que cero.\n",
    "\n",
    "El valor típico que veremos de $\\alpha$ es de 0.1.\n",
    "\n",
    "Su función es la siguiente:\n",
    "\n",
    "\\begin{align*}\n",
    "Leaky\\_ReLU(x) = max(ax,x)\n",
    "\\end{align*}"
   ]
  },
  {
   "cell_type": "code",
   "execution_count": 8,
   "metadata": {
    "scrolled": true
   },
   "outputs": [
    {
     "data": {
      "text/plain": [
       "[<matplotlib.lines.Line2D at 0x7f6aca7a2ba8>]"
      ]
     },
     "execution_count": 8,
     "metadata": {},
     "output_type": "execute_result"
    },
    {
     "data": {
      "image/png": "[encoded data removed]",
      "text/plain": [
       "<Figure size 432x288 with 1 Axes>"
      ]
     },
     "metadata": {},
     "output_type": "display_data"
    }
   ],
   "source": [
    "def leaky_relu(x,a=0.1):\n",
    "    # Funcion de activación sigmoide\n",
    "    # Args:\n",
    "    #    x (int|list|np.array): Valores a los que se le aplicará\n",
    "    #        lleaky relu.\n",
    "    #    a (float): Pendiente para la parte negativa\n",
    "    #\n",
    "    # Salidas:\n",
    "    #    y (np.array): Valor de leaky relu correspondiente a x.\n",
    "    y = np.maximum(a*x,x)\n",
    "    return(y)\n",
    "\n",
    "x = np.linspace(-10,10,1000) # Crea un arreglo de 1000 numeros que van del-10 al 10\n",
    "y = leaky_relu(x) # Calcula los valores en y\n",
    "plt.plot(x,y) # Muestra la grafica"
   ]
  },
  {
   "cell_type": "markdown",
   "metadata": {},
   "source": [
    "No es necesario el restringirnos a $\\alpha = 0.1$. Podemos jugar con el a nuestra conveniencia."
   ]
  },
  {
   "cell_type": "code",
   "execution_count": 10,
   "metadata": {},
   "outputs": [
    {
     "data": {
      "text/plain": [
       "[<matplotlib.lines.Line2D at 0x7f6aca6e4f60>]"
      ]
     },
     "execution_count": 10,
     "metadata": {},
     "output_type": "execute_result"
    },
    {
     "data": {
      "image/png": "[encoded data removed]",
      "text/plain": [
       "<Figure size 432x288 with 1 Axes>"
      ]
     },
     "metadata": {},
     "output_type": "display_data"
    }
   ],
   "source": [
    "y = leaky_relu(x,a=0.5) # Calcula los valores en y\n",
    "plt.plot(x,y) # Muestra la grafica"
   ]
  },
  {
   "cell_type": "markdown",
   "metadata": {},
   "source": [
    "# Softmax\n",
    "\n",
    "También conoccida como la función logistica multiclase, es una función exponencial normalizada que nos permite obtener valores en el rango de \\[0,1\\] para todas las salidas del modelo, y que al sumarse su valor es igual a 1.\n",
    "\n",
    "Si tenemos un clasificador que reconoce las clases \\[Perro,Gato,Caballo,Otro\\] con esta función de activación podemos obtener la probabilidad de que nuestra entrada sea alguna de las clases anteriores. Por ejemplo, \\[0.5,0.3,0.1,0.1\\] indicaría que la clase Perro, con 0.5, tiene la mayor probabilidad de entre todas las clases.\n",
    "\n",
    "Su función es la siguiente:\n",
    "\n",
    "\\begin{align}\n",
    "\\begin{matrix}\n",
    "\\sigma (x)_j = \\frac{e^{z_j}}{\\sum_{k=0}^{n}e^{z_k}} & for & j = 0,1,...,n\n",
    "\\end{matrix}\n",
    "\\end{align}"
   ]
  },
  {
   "cell_type": "code",
   "execution_count": 12,
   "metadata": {},
   "outputs": [],
   "source": [
    "def softmax(x):\n",
    "    # Función de activación multiclase.\n",
    "    # Args:\n",
    "    #    x (np.array): valores a los que se le aplicara softmax\n",
    "    # Returns:\n",
    "    #    out (np.array): Arreglo con los valores normalizados.\n",
    "    exp = np.exp(x)\n",
    "    # Para estabilidad numerica usar:\n",
    "    #exp = np.exp(x-np.max(x))\n",
    "    sum_e = np.sum(exp)\n",
    "    out = exp/sum_e\n",
    "    return(out)"
   ]
  },
  {
   "cell_type": "markdown",
   "metadata": {},
   "source": [
    "Valores antes de que se les aplique la función softmax. La suma de los cuatro es mayor a uno."
   ]
  },
  {
   "cell_type": "code",
   "execution_count": 37,
   "metadata": {},
   "outputs": [
    {
     "data": {
      "text/plain": [
       "<BarContainer object of 4 artists>"
      ]
     },
     "execution_count": 37,
     "metadata": {},
     "output_type": "execute_result"
    },
    {
     "data": {
      "image/png": "[encoded data removed]",
      "text/plain": [
       "<Figure size 432x288 with 1 Axes>"
      ]
     },
     "metadata": {},
     "output_type": "display_data"
    }
   ],
   "source": [
    "x = np.array([2,1.5,0.5,0.5])\n",
    "\n",
    "# Variable auxiliar para dibujar las barras\n",
    "haxis = np.arange(x.shape[0])\n",
    "# Dibuja las barras con la información original\n",
    "plt.bar(haxis,x)"
   ]
  },
  {
   "cell_type": "markdown",
   "metadata": {},
   "source": [
    "Al aplicarse la función, todos los valores quedan en el rango \\[0,1\\], y la suma entre ellos da uno."
   ]
  },
  {
   "cell_type": "code",
   "execution_count": 36,
   "metadata": {},
   "outputs": [
    {
     "data": {
      "text/plain": [
       "<BarContainer object of 4 artists>"
      ]
     },
     "execution_count": 36,
     "metadata": {},
     "output_type": "execute_result"
    },
    {
     "data": {
      "image/png": "[encoded data removed]",
      "text/plain": [
       "<Figure size 432x288 with 1 Axes>"
      ]
     },
     "metadata": {},
     "output_type": "display_data"
    }
   ],
   "source": [
    "# Dibuja las barras con la información normalizada\n",
    "y = softmax(x)\n",
    "# Dibuja la gráfica\n",
    "plt.bar(haxis,y)"
   ]
  },
  {
   "cell_type": "code",
   "execution_count": null,
   "metadata": {},
   "outputs": [],
   "source": []
  }
 ],
 "metadata": {
  "kernelspec": {
   "display_name": "Python 3",
   "language": "python",
   "name": "python3"
  },
  "language_info": {
   "codemirror_mode": {
    "name": "ipython",
    "version": 3
   },
   "file_extension": ".py",
   "mimetype": "text/x-python",
   "name": "python",
   "nbconvert_exporter": "python",
   "pygments_lexer": "ipython3",
   "version": "3.6.5"
  }
 },
 "nbformat": 4,
 "nbformat_minor": 2
}
