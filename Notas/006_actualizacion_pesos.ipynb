{
 "cells": [
  {
   "cell_type": "markdown",
   "metadata": {},
   "source": [
    "# Actualización de Pesos"
   ]
  },
  {
   "cell_type": "code",
   "execution_count": 1,
   "metadata": {},
   "outputs": [],
   "source": [
    "%matplotlib inline\n",
    "import numpy as np\n",
    "import matplotlib.pyplot as plt\n",
    "import chapter1 as ut"
   ]
  },
  {
   "cell_type": "markdown",
   "metadata": {},
   "source": [
    "Dada la operación AND, determinar el perceptrón genere un área de desición acorde a su tabla de verdad.\n",
    "\n",
    "| $x_0$ | $x_1$ | $y$ |\n",
    "|---------------------|\n",
    "|   1   |   1   |  1  |\n",
    "|   1   |   0   |  0  |\n",
    "|   0   |   1   |  0  |\n",
    "|   0   |   0   |  0  |\n",
    "\n",
    "Visto de otra forma, la tabla de verdad se puede ver en una plano cartesiano como se muestra a continuación."
   ]
  },
  {
   "cell_type": "code",
   "execution_count": 2,
   "metadata": {
    "scrolled": true
   },
   "outputs": [
    {
     "data": {
      "image/png": "[encoded data removed]",
      "text/plain": [
       "<Figure size 432x288 with 1 Axes>"
      ]
     },
     "metadata": {},
     "output_type": "display_data"
    }
   ],
   "source": [
    "ut.plot_AND()"
   ]
  },
  {
   "cell_type": "markdown",
   "metadata": {},
   "source": [
    "# Base de datos"
   ]
  },
  {
   "cell_type": "code",
   "execution_count": 3,
   "metadata": {
    "scrolled": false
   },
   "outputs": [
    {
     "name": "stdout",
     "output_type": "stream",
     "text": [
      "Valores de entrada:\n",
      " [[1 1]\n",
      " [1 0]\n",
      " [0 1]\n",
      " [0 0]]\n",
      " Etiquetas Verdaderas:\n",
      " [[1]\n",
      " [0]\n",
      " [0]\n",
      " [0]]\n"
     ]
    }
   ],
   "source": [
    "# Definimos nuestras entradas\n",
    "X = np.array([[1,1],\n",
    "              [1,0],\n",
    "              [0,1],\n",
    "              [0,0]])\n",
    "\n",
    "\n",
    "# Definimos los valores de salida que deseamos\n",
    "Y = np.array([[1],\n",
    "              [0],\n",
    "              [0],\n",
    "              [0]])\n",
    "\n",
    "print('Valores de entrada:\\n {}\\n Etiquetas Verdaderas:\\n {}'.format(X,Y))"
   ]
  },
  {
   "cell_type": "markdown",
   "metadata": {},
   "source": [
    "# Inicialización de pesos"
   ]
  },
  {
   "cell_type": "code",
   "execution_count": 4,
   "metadata": {},
   "outputs": [
    {
     "name": "stdout",
     "output_type": "stream",
     "text": [
      "Pesos:\n",
      " [[0.5]\n",
      " [0.1]]\n",
      " Bias:\n",
      " [[0]]\n",
      "\n"
     ]
    }
   ],
   "source": [
    "# Pesos\n",
    "# Debería aproximarse a algo similar 0.2 and 0.2\n",
    "W = np.array([[0.5],[0.1]])\n",
    "\n",
    "# Bias\n",
    "# Debería aproximarse a algo similar -0.2\n",
    "b = np.array([[0]])\n",
    "\n",
    "print('Pesos:\\n {}\\n Bias:\\n {}\\n'.format(W,b))"
   ]
  },
  {
   "cell_type": "markdown",
   "metadata": {},
   "source": [
    "# Primera predicción sin entrenamiento"
   ]
  },
  {
   "cell_type": "code",
   "execution_count": 5,
   "metadata": {
    "scrolled": false
   },
   "outputs": [
    {
     "name": "stdout",
     "output_type": "stream",
     "text": [
      "Predicciones:\n",
      " [[1]\n",
      " [1]\n",
      " [1]\n",
      " [0]]\n"
     ]
    },
    {
     "data": {
      "image/png": "[encoded data removed]",
      "text/plain": [
       "<Figure size 432x288 with 1 Axes>"
      ]
     },
     "metadata": {},
     "output_type": "display_data"
    }
   ],
   "source": [
    "# Predecimos los valores de nuestra red\n",
    "s = np.dot(X,W) + b\n",
    "y_pred = ut.sigmoid(s)\n",
    "y_pred = (y_pred>0.5).astype(np.int32)\n",
    "\n",
    "print('Predicciones:\\n {}'.format(y_pred))\n",
    "\n",
    "ut.plot_pred_AND(X,y_pred)"
   ]
  },
  {
   "cell_type": "markdown",
   "metadata": {},
   "source": [
    "# Area de desición de la red\n",
    "Esta figura nos muestra como va cambiando el área de desición de nuestra red neuronal. El área pintada en azul corresponde a ceros, y el área en rojo corresponde a unos."
   ]
  },
  {
   "cell_type": "code",
   "execution_count": 6,
   "metadata": {},
   "outputs": [
    {
     "data": {
      "image/png": "[encoded data removed]",
      "text/plain": [
       "<Figure size 432x288 with 1 Axes>"
      ]
     },
     "metadata": {},
     "output_type": "display_data"
    }
   ],
   "source": [
    "# Area de desición\n",
    "ut.plot_area_AND(W,b)"
   ]
  },
  {
   "cell_type": "markdown",
   "metadata": {},
   "source": [
    "# Definición de entrenamiento"
   ]
  },
  {
   "cell_type": "code",
   "execution_count": 7,
   "metadata": {},
   "outputs": [],
   "source": [
    "def sigmoid(x):\n",
    "    y = 1/(1+np.exp(-x))\n",
    "    return(y)\n",
    "\n",
    "def dsigmoid(x):\n",
    "    dsig = sigmoid(x)*(1 - sigmoid(x))\n",
    "    return(dsig)\n",
    "\n",
    "def train_AND(X,Y,W,b,lr=0.01,verbose=False):\n",
    "    # W has Shape [2,1]\n",
    "    # b has Shape [1,1]\n",
    "    \n",
    "    # Feed-Forward\n",
    "    s_pre = np.dot(X,W)\n",
    "    s = s_pre + b\n",
    "    y_pred = sigmoid(s)\n",
    "    \n",
    "    # Loss\n",
    "    losses = (Y-y_pred)**2\n",
    "    loss = np.sum(losses)/Y.shape[0]\n",
    "    \n",
    "    # Back-Propagation\n",
    "    dL = np.ones_like(y_pred) #(-2/Y.shape[0])*np.sum(Y-y_pred)\n",
    "    dsigma = dsigmoid(y_pred) * dL\n",
    "    \n",
    "    db = np.sum(dsigma)/Y.shape[0]\n",
    "    \n",
    "    dW = np.dot(dsigma.T,X)/Y.shape[0]\n",
    "    \n",
    "    # Actualizacion de pesos\n",
    "    new_W = W - lr*dW.T\n",
    "    new_b = b - lr*db\n",
    "    \n",
    "    if verbose:\n",
    "        print('Y:\\n{}'.format(Y))\n",
    "        print('\\ny_pred:\\n{}'.format(y_pred))\n",
    "        print('\\nLosses:\\n{}'.format(losses))\n",
    "        print('\\nLoss:\\n{}'.format(loss))\n",
    "        print('\\ndsigma:\\n{}'.format(dsigma))\n",
    "        print('\\ndb:\\n{}'.format(db))\n",
    "        print('\\ndW:\\n{}'.format(dW))\n",
    "    \n",
    "    return(new_W,new_b)"
   ]
  },
  {
   "cell_type": "markdown",
   "metadata": {},
   "source": [
    "# Iniciamos entrenamiento"
   ]
  },
  {
   "cell_type": "code",
   "execution_count": 8,
   "metadata": {},
   "outputs": [
    {
     "ename": "NameError",
     "evalue": "name 'tmp_W' is not defined",
     "output_type": "error",
     "traceback": [
      "\u001b[0;31m---------------------------------------------------------------------------\u001b[0m",
      "\u001b[0;31mNameError\u001b[0m                                 Traceback (most recent call last)",
      "\u001b[0;32m<ipython-input-8-1f8fe72f0154>\u001b[0m in \u001b[0;36m<module>\u001b[0;34m()\u001b[0m\n\u001b[1;32m      1\u001b[0m \u001b[0;32mfor\u001b[0m \u001b[0mi\u001b[0m \u001b[0;32min\u001b[0m \u001b[0mrange\u001b[0m\u001b[0;34m(\u001b[0m\u001b[0;36m1\u001b[0m\u001b[0;34m)\u001b[0m\u001b[0;34m:\u001b[0m\u001b[0;34m\u001b[0m\u001b[0m\n\u001b[0;32m----> 2\u001b[0;31m     \u001b[0mtmp_W\u001b[0m\u001b[0;34m,\u001b[0m\u001b[0mtmp_b\u001b[0m \u001b[0;34m=\u001b[0m \u001b[0mtrain_AND\u001b[0m\u001b[0;34m(\u001b[0m\u001b[0mX\u001b[0m\u001b[0;34m,\u001b[0m\u001b[0mY\u001b[0m\u001b[0;34m,\u001b[0m\u001b[0mtmp_W\u001b[0m\u001b[0;34m,\u001b[0m\u001b[0mtmp_b\u001b[0m\u001b[0;34m,\u001b[0m\u001b[0mlr\u001b[0m\u001b[0;34m=\u001b[0m\u001b[0;36m0.01\u001b[0m\u001b[0;34m,\u001b[0m\u001b[0mverbose\u001b[0m\u001b[0;34m=\u001b[0m\u001b[0;32mFalse\u001b[0m\u001b[0;34m)\u001b[0m\u001b[0;34m\u001b[0m\u001b[0m\n\u001b[0m\u001b[1;32m      3\u001b[0m \u001b[0;34m\u001b[0m\u001b[0m\n\u001b[1;32m      4\u001b[0m \u001b[0mprint\u001b[0m\u001b[0;34m(\u001b[0m\u001b[0;34m'\\ntmp_W:\\n{}'\u001b[0m\u001b[0;34m.\u001b[0m\u001b[0mformat\u001b[0m\u001b[0;34m(\u001b[0m\u001b[0mtmp_W\u001b[0m\u001b[0;34m)\u001b[0m\u001b[0;34m)\u001b[0m\u001b[0;34m\u001b[0m\u001b[0m\n\u001b[1;32m      5\u001b[0m \u001b[0mprint\u001b[0m\u001b[0;34m(\u001b[0m\u001b[0;34m'\\ntmp_b:\\b{}'\u001b[0m\u001b[0;34m.\u001b[0m\u001b[0mformat\u001b[0m\u001b[0;34m(\u001b[0m\u001b[0mtmp_b\u001b[0m\u001b[0;34m)\u001b[0m\u001b[0;34m)\u001b[0m\u001b[0;34m\u001b[0m\u001b[0m\n",
      "\u001b[0;31mNameError\u001b[0m: name 'tmp_W' is not defined"
     ]
    }
   ],
   "source": [
    "for i in range(1):\n",
    "    tmp_W,tmp_b = train_AND(X,Y,tmp_W,tmp_b,lr=0.01,verbose=False)\n",
    "\n",
    "print('\\ntmp_W:\\n{}'.format(tmp_W))\n",
    "print('\\ntmp_b:\\b{}'.format(tmp_b))\n",
    "\n",
    "# Area de desición\n",
    "ut.plot_area_AND(tmp_W,tmp_b)"
   ]
  },
  {
   "cell_type": "code",
   "execution_count": null,
   "metadata": {},
   "outputs": [],
   "source": []
  }
 ],
 "metadata": {
  "kernelspec": {
   "display_name": "Python 3",
   "language": "python",
   "name": "python3"
  },
  "language_info": {
   "codemirror_mode": {
    "name": "ipython",
    "version": 3
   },
   "file_extension": ".py",
   "mimetype": "text/x-python",
   "name": "python",
   "nbconvert_exporter": "python",
   "pygments_lexer": "ipython3",
   "version": "3.6.5"
  }
 },
 "nbformat": 4,
 "nbformat_minor": 2
}
