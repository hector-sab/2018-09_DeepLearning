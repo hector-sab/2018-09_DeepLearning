{
 "cells": [
  {
   "cell_type": "code",
   "execution_count": 18,
   "metadata": {},
   "outputs": [
    {
     "name": "stdout",
     "output_type": "stream",
     "text": [
      "[40.13342469 31.13356265 25.04295059 17.3112271  13.68168921 10.6559571\n",
      "  5.23722704  4.58499033  1.94778943  2.62163277  3.07476707  1.97125701\n",
      "  6.63510212  7.28008212 12.75913986 17.01119013 22.56685294 30.95742915\n",
      " 38.47887721 45.31323015]\n"
     ]
    },
    {
     "data": {
      "image/png": "[encoded data removed]",
      "text/plain": [
       "<Figure size 432x288 with 1 Axes>"
      ]
     },
     "metadata": {},
     "output_type": "display_data"
    }
   ],
   "source": [
    "import numpy as np\n",
    "from numpy import array\n",
    "from numpy import matmul\n",
    "from numpy.linalg import inv\n",
    "from numpy.random import rand\n",
    "from matplotlib import pyplot\n",
    "\n",
    "# generate data on a line perturbed with some noise\n",
    "noise_margin= 3\n",
    "w = 2*rand(3,1) # w[0] is random constant term (offset from origin), w[1] is random linear term, w[2] is random quadratic term\n",
    "x  = np.linspace(-5,5,20)\n",
    "y = w[0] + w[1]*x + w[2]*x**2 + noise_margin*rand(len(x))\n",
    "\n",
    "# using polyfit instead\n",
    "print(y)\n",
    "poly_order = 2\n",
    "w_est = np.polyfit(x, y, poly_order)\n",
    "p = np.poly1d(w_est)\n",
    "\n",
    "# evaluate the x values in the fitted model to get estimated y values\n",
    "y_est = p(x)\n",
    "\n",
    "# visualize the fitted model\n",
    "pyplot.scatter(x, y)\n",
    "pyplot.plot(x, y_est, color='red')\n",
    "pyplot.show()"
   ]
  }
 ],
 "metadata": {
  "kernelspec": {
   "display_name": "Python 3",
   "language": "python",
   "name": "python3"
  },
  "language_info": {
   "codemirror_mode": {
    "name": "ipython",
    "version": 3
   },
   "file_extension": ".py",
   "mimetype": "text/x-python",
   "name": "python",
   "nbconvert_exporter": "python",
   "pygments_lexer": "ipython3",
   "version": "3.6.6"
  }
 },
 "nbformat": 4,
 "nbformat_minor": 2
}
